{
 "cells": [
  {
   "cell_type": "markdown",
   "metadata": {},
   "source": [
    "### Розыгрыш дискретных случайных виличин"
   ]
  },
  {
   "cell_type": "code",
   "execution_count": null,
   "metadata": {},
   "outputs": [],
   "source": [
    "import numpy as np\n",
    "\n",
    "import matplotlib.pyplot as plt\n",
    "\n",
    "n = 1000000\n",
    "x = np.random.random(n)\n",
    "y = np.random.random(n)\n",
    "hist = np.histogram(x, bins=12)\n",
    "plt.hist(x, edgecolor='w', bins=12)"
   ]
  },
  {
   "cell_type": "code",
   "execution_count": null,
   "metadata": {},
   "outputs": [],
   "source": [
    "import pandas as pd\n",
    "df = pd.DataFrame(x)\n",
    "df.describe()"
   ]
  },
  {
   "cell_type": "code",
   "execution_count": null,
   "metadata": {},
   "outputs": [],
   "source": [
    "plt.scatter(x,y, marker='.')"
   ]
  },
  {
   "cell_type": "markdown",
   "metadata": {},
   "source": [
    "Задан закон распределения случайной величины $\\xi$, такой что $P(\\xi=i)=p_i$, при $0 \\leq i <N$ и $\\sum_{i=0}^{N-1}{p_i}=1$"
   ]
  },
  {
   "cell_type": "code",
   "execution_count": null,
   "metadata": {},
   "outputs": [],
   "source": [
    "p = [0.2, 0.1, 0.1, 0.05, 0.05, 0.5]\n",
    "\n",
    "def rnd_discrete(x):\n",
    "    Q = x\n",
    "    m = 0\n",
    "    while True:\n",
    "        Q -= p[m]\n",
    "        if Q < 0: return m\n",
    "        m += 1\n",
    "\n",
    "rnd_discrete_vect = np.vectorize(rnd_discrete)\n",
    "import time\n",
    "start_time = time.time()\n",
    "\n",
    "d = rnd_discrete_vect(x)\n",
    "\n",
    "print(\"--- %s seconds ---\" % (time.time() - start_time))\n",
    "plt.hist(d, edgecolor='w', bins=len(p))"
   ]
  },
  {
   "cell_type": "code",
   "execution_count": null,
   "metadata": {},
   "outputs": [],
   "source": [
    "h = np.histogram(d, bins=len(p))\n",
    "h[0] / n, np.abs(p - h[0] / n )"
   ]
  },
  {
   "cell_type": "code",
   "execution_count": null,
   "metadata": {},
   "outputs": [],
   "source": [
    "P = list(enumerate(p))\n",
    "P.sort(key=lambda x: x[1], reverse=True)\n",
    "D = {i: P[i][0] for i in range(len(P))}\n",
    "p.sort(reverse=True)"
   ]
  },
  {
   "cell_type": "code",
   "execution_count": null,
   "metadata": {},
   "outputs": [],
   "source": [
    "def rnd_discrete_v1(x):\n",
    "    Q = x\n",
    "    m = 0\n",
    "    while True:\n",
    "        Q -= p[m]\n",
    "        if Q < 0: return D[m]\n",
    "        m += 1\n",
    "\n",
    "rnd_discrete_vect = np.vectorize(rnd_discrete_v1)\n",
    "import time\n",
    "start_time = time.time()\n",
    "\n",
    "d = rnd_discrete_vect(x)\n",
    "\n",
    "print(\"--- %s seconds ---\" % (time.time() - start_time))\n",
    "plt.hist(d, edgecolor='w', bins=len(p))"
   ]
  },
  {
   "cell_type": "code",
   "execution_count": null,
   "metadata": {},
   "outputs": [],
   "source": [
    "# Метод Уолкера\n",
    "\n",
    "p = [0.2, 0.1, 0.1, 0.05, 0.05, 0.5]\n",
    "n = len(p)\n",
    "class Segm:\n",
    "    def __init__(self, p) -> None:\n",
    "        self.p = p\n",
    "        self.ind = -1\n",
    "    def set(self, i):\n",
    "        self.ind = i\n",
    "    def __repr__(self) -> str:\n",
    "        return f'p = {self.p} i = {self.ind}'\n",
    "        \n",
    "\n",
    "\n",
    "p_old = p.copy()\n",
    "level = 1 / len(p)\n",
    "\n",
    "U = {i: Segm(n * p[i]) for i in range(n)}\n",
    "\n",
    "for i in range(n):\n",
    "    i_min = p.index(min(p))\n",
    "    i_max = p.index(max(p))\n",
    "    U[i_min].set(i_max)\n",
    "    p[i_max] -= level - p[i_min]\n",
    "    p[i_min] = level    \n",
    "print(p)\n",
    "print(p_old)\n",
    "\n",
    "U\n",
    "    "
   ]
  },
  {
   "cell_type": "code",
   "execution_count": null,
   "metadata": {},
   "outputs": [],
   "source": [
    "def rnd_discrete_Walker(x, y):    \n",
    "    i = int(x * n)   \n",
    "    if U[i].p > y:        \n",
    "        return i\n",
    "    else: return U[i].ind\n",
    "\n",
    "rnd_discrete_vect = np.vectorize(rnd_discrete_Walker)\n",
    "import time\n",
    "start_time = time.time()\n",
    "\n",
    "d = rnd_discrete_vect(x, y)\n",
    "\n",
    "print(\"--- %s seconds ---\" % (time.time() - start_time))\n",
    "plt.hist(d, edgecolor='w', bins=len(p))  "
   ]
  },
  {
   "cell_type": "code",
   "execution_count": null,
   "metadata": {},
   "outputs": [],
   "source": [
    "a = np.array([1,2,3])\n",
    "a > 1"
   ]
  },
  {
   "cell_type": "code",
   "execution_count": null,
   "metadata": {},
   "outputs": [],
   "source": [
    "# Walker verctor version\n",
    "\n",
    "def rnd_discrete_Walker_v(x, y):    \n",
    "    n = len(p)\n",
    "    boxes = (x * n).astype(int)\n",
    "    pp = np.array([U[b].p for b in boxes])\n",
    "    ind = np.array([U[b].ind for b in boxes])\n",
    "    changed = (pp < y).astype(int)\n",
    "    not_changes = 1- changed\n",
    "    res = boxes * not_changes + changed * ind\n",
    "    return res\n",
    "\n",
    "import time\n",
    "start_time = time.time()\n",
    "\n",
    "d = rnd_discrete_Walker_v(x, y)\n",
    "\n",
    "print(\"--- %s seconds ---\" % (time.time() - start_time))\n",
    "plt.hist(d, edgecolor='w', bins=len(p)) "
   ]
  },
  {
   "cell_type": "code",
   "execution_count": null,
   "metadata": {},
   "outputs": [],
   "source": [
    "# Моделирование распределения Пуассона\n",
    "\n",
    "L = 9\n",
    "n = 1000000\n",
    "st_poisson = np.random.poisson(lam=L, size=n)\n",
    "plt.hist(st_poisson, bins=12)"
   ]
  },
  {
   "cell_type": "code",
   "execution_count": null,
   "metadata": {},
   "outputs": [],
   "source": [
    "from math import e\n",
    "def poisson(L, x):    \n",
    "    p = e ** (-L)\n",
    "    m = 0\n",
    "    while True:\n",
    "        x -= p\n",
    "        if x < 0:           \n",
    "            return m\n",
    "        m += 1\n",
    "        p *= L / m\n",
    "\n",
    "poisson_v = np.vectorize(poisson)\n",
    "\n",
    "import time\n",
    "start_time = time.time()\n",
    "\n",
    "d = poisson_v(9, x)\n",
    "print(d)\n",
    "\n",
    "print(\"--- %s seconds ---\" % (time.time() - start_time))\n",
    "plt.hist(d, edgecolor='w', bins=12) "
   ]
  }
 ],
 "metadata": {
  "kernelspec": {
   "display_name": "Python 3.8.9 64-bit",
   "language": "python",
   "name": "python3"
  },
  "language_info": {
   "codemirror_mode": {
    "name": "ipython",
    "version": 3
   },
   "file_extension": ".py",
   "mimetype": "text/x-python",
   "name": "python",
   "nbconvert_exporter": "python",
   "pygments_lexer": "ipython3",
   "version": "3.8.9"
  },
  "orig_nbformat": 4,
  "vscode": {
   "interpreter": {
    "hash": "e6217d34dac44aac0c88588f2444b4c263746034af9644c674ee14e3f27b5c91"
   }
  }
 },
 "nbformat": 4,
 "nbformat_minor": 2
}
